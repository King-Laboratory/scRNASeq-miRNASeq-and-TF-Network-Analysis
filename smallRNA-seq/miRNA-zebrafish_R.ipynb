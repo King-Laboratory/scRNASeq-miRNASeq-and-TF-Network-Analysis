{
 "cells": [
  {
   "cell_type": "markdown",
   "id": "d598b0e3-0a9b-4abb-b18d-8d8acffd6238",
   "metadata": {},
   "source": [
    "## Step 1: Load libraries and Setup Environment"
   ]
  },
  {
   "cell_type": "markdown",
   "id": "e8c7f747-7851-477c-8bac-caa47add33ab",
   "metadata": {},
   "source": [
    "The system() function will be used to interact with R and manage your workflow. We use mamba to install the necessary bioinformatics packages directly from the R environment.\n"
   ]
  },
  {
   "cell_type": "code",
   "execution_count": 99,
   "id": "cb8fc0f0-7b9b-4c7a-ac1e-d02ac4beca8b",
   "metadata": {
    "tags": []
   },
   "outputs": [],
   "source": [
    "# Download Miniforge\n",
    "system(\"curl -L -O https://github.com/conda-forge/miniforge/releases/latest/download/Miniforge3-$(uname)-$(uname -m).sh\", ignore.stdout = TRUE, ignore.stderr = TRUE)\n",
    "\n",
    "# Install Miniforge (you can change the path as needed)\n",
    "system(\"bash Miniforge3-$(uname)-$(uname -m).sh -b -u -p $HOME/miniforge\", ignore.stdout = TRUE, ignore.stderr = TRUE)\n",
    "\n",
    "# Update PATH to point to the Miniforge bin files\n",
    "Sys.setenv(PATH = paste0(Sys.getenv(\"HOME\"), \"/miniforge/bin:\", Sys.getenv(\"PATH\")))"
   ]
  },
  {
   "cell_type": "code",
   "execution_count": 100,
   "id": "8e1d7c4b-7b69-41f4-8d4b-8ebfcc45bee6",
   "metadata": {
    "tags": []
   },
   "outputs": [],
   "source": [
    "# Use mamba to install the required bioinformatics packages\n",
    "system(\"mamba install -y -c conda-forge -c bioconda fastqc multiqc entrez-direct parallel-fastq-dump sra-tools samtools subread\")"
   ]
  },
  {
   "cell_type": "code",
   "execution_count": null,
   "id": "ff1729c4-2f84-4435-b06a-a8e4080614dd",
   "metadata": {},
   "outputs": [],
   "source": [
    "# Install packages if not already installed\n",
    "if (!requireNamespace(\"BiocManager\", quietly = TRUE))\n",
    "  install.packages(\"BiocManager\")\n",
    "\n",
    "BiocManager::install(c(\"DESeq2\", \"ggplot2\", \"pheatmap\", \"apeglm\", \"ggrepel\", \"EnhancedVolcano\", \"ComplexHeatmap\", \"RColorBrewer\"))"
   ]
  },
  {
   "cell_type": "code",
   "execution_count": null,
   "id": "9761fa58-ec1e-44c3-9ed3-37198ae8fce8",
   "metadata": {
    "tags": []
   },
   "outputs": [],
   "source": [
    "# Load libraries\n",
    "library(DESeq2)\n",
    "library(ggplot2)\n",
    "library(pheatmap)\n",
    "library(apeglm) \n",
    "library(ggrepel) \n",
    "library(EnhancedVolcano)\n",
    "library(RColorBrewer)\n",
    "library(ComplexHeatmap)"
   ]
  },
  {
   "cell_type": "code",
   "execution_count": null,
   "id": "bd53bf2f-2d32-4093-a18b-44d1041012bb",
   "metadata": {
    "tags": []
   },
   "outputs": [],
   "source": [
    "# Pull the Docker image\n",
    "system(\"docker pull encodedcc/mirna-seq-pipeline:1.2.2\")"
   ]
  },
  {
   "cell_type": "code",
   "execution_count": 113,
   "id": "c56da9aa-b3d4-496c-88a5-f6fe2e346421",
   "metadata": {
    "tags": []
   },
   "outputs": [
    {
     "name": "stderr",
     "output_type": "stream",
     "text": [
      "Warning message in dir.create(\"data\", recursive = TRUE):\n",
      "“'data' already exists”\n",
      "Warning message in dir.create(\"data/aligned_bam\"):\n",
      "“'data/aligned_bam' already exists”\n",
      "Warning message in dir.create(\"data/fastqc\"):\n",
      "“'data/fastqc' already exists”\n",
      "Warning message in dir.create(\"data/fastqc_samples\"):\n",
      "“'data/fastqc_samples' already exists”\n",
      "Warning message in dir.create(\"data/raw_fastq\"):\n",
      "“'data/raw_fastq' already exists”\n",
      "Warning message in dir.create(\"data/reference\"):\n",
      "“'data/reference' already exists”\n",
      "Warning message in dir.create(\"data/sample_STAR\"):\n",
      "“'data/sample_STAR' already exists”\n",
      "Warning message in dir.create(\"data/star_output\"):\n",
      "“'data/star_output' already exists”\n",
      "Warning message in dir.create(\"data/trimmed\"):\n",
      "“'data/trimmed' already exists”\n",
      "Warning message in dir.create(\"data/zebrafish_STAR_index\"):\n",
      "“'data/zebrafish_STAR_index' already exists”\n"
     ]
    }
   ],
   "source": [
    "# Create necessary directories on your host machine (outside Docker)\n",
    "dir.create(\"data\", recursive = TRUE)\n",
    "dir.create(\"data/aligned_bam\")\n",
    "dir.create(\"data/fastqc\")\n",
    "dir.create(\"data/fastqc_samples\")\n",
    "dir.create(\"data/raw_fastq\")\n",
    "dir.create(\"data/reference\")\n",
    "dir.create(\"data/sample_STAR\")\n",
    "dir.create(\"data/star_output\")\n",
    "dir.create(\"data/trimmed\")\n",
    "dir.create(\"data/zebrafish_STAR_index\")"
   ]
  },
  {
   "cell_type": "code",
   "execution_count": 114,
   "id": "6b4a10fd-4d7c-4a22-8b4b-d9f296d14dc8",
   "metadata": {
    "tags": []
   },
   "outputs": [
    {
     "name": "stdout",
     "output_type": "stream",
     "text": [
      "[1] \"Number of threads: 7\"\n"
     ]
    }
   ],
   "source": [
    "# Detect number of cores\n",
    "num_cores <- parallel::detectCores(logical = TRUE)\n",
    "THREADS <- max(1, num_cores - 1)\n",
    "print(paste(\"Number of threads:\", THREADS))"
   ]
  },
  {
   "cell_type": "markdown",
   "id": "5db7e109-e443-4a24-9ccf-e248473dd43d",
   "metadata": {
    "tags": []
   },
   "source": [
    "Executing the SRA Toolkit commands to fetch accession numbers."
   ]
  },
  {
   "cell_type": "code",
   "execution_count": 6,
   "id": "e5c6ae24-c53b-467f-a9cc-de85d7ab0126",
   "metadata": {
    "tags": []
   },
   "outputs": [],
   "source": [
    "system(\"esearch -db sra -query 'PRJNA300314' | efetch -format runinfo > all_sra_info.txt\")\n",
    "system(\"grep -E 'GSM1920155|GSM1920156|GSM1920157|GSM1920158|GSM1920159|GSM1920160' all_sra_info.txt | cut -d',' -f1 > accs.txt\")\n",
    "system(\"cat accs.txt\")"
   ]
  },
  {
   "cell_type": "markdown",
   "id": "1b5637c2-8dad-4deb-9da6-583af6eddee6",
   "metadata": {},
   "source": [
    "## Step 2: Download Data and Reference Files\n"
   ]
  },
  {
   "cell_type": "code",
   "execution_count": 7,
   "id": "21c3045e-e0d8-434f-8839-72923aa5db38",
   "metadata": {
    "tags": []
   },
   "outputs": [],
   "source": [
    "# Download multiple files using the SRA-Toolkit with parallel threads\n",
    "system(paste(\"cat accs.txt | xargs -P\", THREADS, \"-I {} prefetch {} -O data/raw_fastq -f yes\"))"
   ]
  },
  {
   "cell_type": "code",
   "execution_count": 8,
   "id": "1941fcac-455d-4012-8aea-4d3183163ddc",
   "metadata": {
    "tags": []
   },
   "outputs": [],
   "source": [
    "# Download genome and annotation files\n",
    "system(\"wget ftp://ftp.ensembl.org/pub/release-104/fasta/danio_rerio/dna/Danio_rerio.GRCz11.dna.primary_assembly.fa.gz -O data/reference/zebrafish_genome.fa.gz\")\n",
    "system(\"wget -P data/reference/ https://sra-data-athena.s3.amazonaws.com/reference/dre_zebrafish.gtf\")\n",
    "system(\"wget -P wget -P data/trimmed/ https://sra-data-athena.s3.amazonaws.com/reference/three_prime_adapter_miiR-21-P1-5p.fasta\")\n",
    "\n",
    "# Unzip the genome file\n",
    "system(\"gunzip -f data/reference/zebrafish_genome.fa.gz\")"
   ]
  },
  {
   "cell_type": "markdown",
   "id": "cbb4d18d-181f-4ddf-8ebe-46139ab5adaf",
   "metadata": {},
   "source": [
    "## Step 3: Download and Convert SRA to FASTQ"
   ]
  },
  {
   "cell_type": "markdown",
   "id": "ad409321-0e98-454e-a8ab-3c2d51ca118d",
   "metadata": {},
   "source": [
    "Run the commands inside the Docker container to download and convert SRA files to FASTQ using the prefetch and fasterq-dump tools."
   ]
  },
  {
   "cell_type": "code",
   "execution_count": 9,
   "id": "4862ac65-349e-48e6-9aad-3f43499b5b26",
   "metadata": {
    "tags": []
   },
   "outputs": [],
   "source": [
    "# Convert SRA files to Fastq format using fastq-dump\n",
    "system(paste(\"cat accs.txt | xargs -P\", THREADS, \"-I {} fastq-dump --outdir data/raw_fastq/ --gzip data/raw_fastq/{}/{}.sra\"))"
   ]
  },
  {
   "cell_type": "markdown",
   "id": "6e917e2d-dcdc-4c67-98ff-2f1600fd95ad",
   "metadata": {},
   "source": [
    "## Step 4: Run FastQC"
   ]
  },
  {
   "cell_type": "markdown",
   "id": "5f778f00-859c-402d-8883-13750e9cdf61",
   "metadata": {},
   "source": [
    "Run FastQC to analyze the quality of the FASTQ files, and then generate a MultiQC report."
   ]
  },
  {
   "cell_type": "code",
   "execution_count": 10,
   "id": "e5a15233-4dac-496a-9ac9-37b83ae3da0f",
   "metadata": {
    "tags": []
   },
   "outputs": [],
   "source": [
    "# Run FastQC on the downloaded Fastq files\n",
    "system(paste(\"cat accs.txt | xargs -P\", THREADS, \"-I {} fastqc data/raw_fastq/{}.fastq.gz -o data/fastqc/\"))"
   ]
  },
  {
   "cell_type": "code",
   "execution_count": 11,
   "id": "c9ff0199-c8d2-4616-af50-b9faa88a57f0",
   "metadata": {
    "tags": []
   },
   "outputs": [
    {
     "name": "stdout",
     "output_type": "stream",
     "text": [
      "      Sample            Filename               File.type              Encoding\n",
      "1 SRR2834933 SRR2834933.fastq.gz Conventional base calls Sanger / Illumina 1.9\n",
      "2 SRR2834934 SRR2834934.fastq.gz Conventional base calls Sanger / Illumina 1.9\n",
      "3 SRR2834935 SRR2834935.fastq.gz Conventional base calls Sanger / Illumina 1.9\n",
      "4 SRR2834936 SRR2834936.fastq.gz Conventional base calls Sanger / Illumina 1.9\n",
      "5 SRR2834937 SRR2834937.fastq.gz Conventional base calls Sanger / Illumina 1.9\n",
      "6 SRR2834938 SRR2834938.fastq.gz Conventional base calls Sanger / Illumina 1.9\n",
      "  Total.Sequences Total.Bases Sequences.flagged.as.poor.quality Sequence.length\n",
      "1        12350899   617.5 Mbp                                 0              50\n",
      "2        15081143     754 Mbp                                 0              50\n",
      "3         5245513   262.2 Mbp                                 0              50\n",
      "4         8941418     447 Mbp                                 0              50\n",
      "5         8907800   445.3 Mbp                                 0              50\n",
      "6         7473593   373.6 Mbp                                 0              50\n",
      "  X.GC total_deduplicated_percentage avg_sequence_length median_sequence_length\n",
      "1   56                      3.764245                  50                     50\n",
      "2   56                      3.462395                  50                     50\n",
      "3   56                      4.159770                  50                     50\n",
      "4   56                      3.172785                  50                     50\n",
      "5   55                      3.316026                  50                     50\n",
      "6   55                      3.685029                  50                     50\n",
      "  basic_statistics per_base_sequence_quality per_tile_sequence_quality\n",
      "1             pass                      pass                      warn\n",
      "2             pass                      pass                      warn\n",
      "3             pass                      pass                      warn\n",
      "4             pass                      pass                      warn\n",
      "5             pass                      pass                      warn\n",
      "6             pass                      pass                      warn\n",
      "  per_sequence_quality_scores per_base_sequence_content per_sequence_gc_content\n",
      "1                        pass                      fail                    fail\n",
      "2                        pass                      fail                    fail\n",
      "3                        pass                      fail                    fail\n",
      "4                        pass                      fail                    fail\n",
      "5                        pass                      fail                    fail\n",
      "6                        pass                      fail                    fail\n",
      "  per_base_n_content sequence_length_distribution sequence_duplication_levels\n",
      "1               pass                         pass                        fail\n",
      "2               pass                         pass                        fail\n",
      "3               pass                         pass                        fail\n",
      "4               pass                         pass                        fail\n",
      "5               pass                         pass                        fail\n",
      "6               pass                         pass                        fail\n",
      "  overrepresented_sequences adapter_content\n",
      "1                      fail            fail\n",
      "2                      fail            fail\n",
      "3                      fail            fail\n",
      "4                      fail            fail\n",
      "5                      fail            fail\n",
      "6                      fail            fail\n"
     ]
    }
   ],
   "source": [
    "# Run MultiQC to generate a combined QC report\n",
    "system(\"multiqc -f data/fastqc/\")\n",
    "\n",
    "# Read and display the MultiQC data using R's data frames\n",
    "multiqc_data <- read.csv(\"./multiqc_data/multiqc_fastqc.txt\", sep = \"\\t\")\n",
    "print(multiqc_data)"
   ]
  },
  {
   "cell_type": "markdown",
   "id": "e149ee2e-a315-4f2c-8900-a1401d7323ae",
   "metadata": {},
   "source": [
    "## Step 5: Adapter Trimming using Cutadapt"
   ]
  },
  {
   "cell_type": "markdown",
   "id": "22edf8c7-c696-422c-9d18-dacbb2d61eee",
   "metadata": {},
   "source": [
    "Trimming the adapter sequences from FASTQ files using cutadapt inside the Docker container."
   ]
  },
  {
   "cell_type": "code",
   "execution_count": 6,
   "id": "3120f495-156f-4b05-ab43-c428491b3d96",
   "metadata": {
    "tags": []
   },
   "outputs": [],
   "source": [
    "# Define the list of SRA accessions from your file\n",
    "accs_ids <- readLines(\"accs.txt\")\n",
    "\n",
    "# Specify adapter file location\n",
    "adapter_file <- \"data/trimmed/three_prime_adapter_miiR-21-P1-5p.fasta\"\n",
    "trimmed_output_dir <- \"data/trimmed\"\n",
    "\n",
    "# Run cutadapt in Docker for each accession\n",
    "for (i in 1:length(accs_ids)) {\n",
    "  acc <- accs_ids[i]\n",
    "  input_fastq <- paste0(\"data/raw_fastq/\", acc, \".fastq.gz\")\n",
    "  trimmed_fastq <- paste0(trimmed_output_dir, \"/\", acc, \"_trimmed.fastq\")\n",
    "\n",
    "  # Run cutadapt inside Docker\n",
    "  system(paste0(\n",
    "    \"docker run --rm -v \", getwd(), \":/data \",\n",
    "    \"encodedcc/mirna-seq-pipeline:1.2.2 \",\n",
    "    \"cutadapt -a file:/data/\", adapter_file, \" -e 0.25 -m 15 -M 30 \",\n",
    "    \" --untrimmed-output /data/\", trimmed_output_dir, \"/\", acc, \"_untrimmed.fastq\",\n",
    "    \" -o /data/\", trimmed_output_dir, \"/\", acc, \"_trimmed.fastq\",\n",
    "    \" --cores \", THREADS, \" /data/\", input_fastq\n",
    "  ))\n",
    "}"
   ]
  },
  {
   "cell_type": "markdown",
   "id": "09bb968f-4b37-4531-a3d5-f4e295f06155",
   "metadata": {},
   "source": [
    "## Step 6: Run Fastqc"
   ]
  },
  {
   "cell_type": "code",
   "execution_count": 9,
   "id": "d108a80f-b22e-4641-8c4e-127e610581f0",
   "metadata": {
    "tags": []
   },
   "outputs": [],
   "source": [
    "# Run FastQC on the downloaded Fastq files\n",
    "system(paste(\"cat accs.txt | xargs -P\", THREADS, \"-I {} fastqc data/trimmed/{}.fastq -o data/fastqc_samples\"))"
   ]
  },
  {
   "cell_type": "code",
   "execution_count": 10,
   "id": "8b50c416-c32f-47b2-af5b-dc4719087638",
   "metadata": {
    "tags": []
   },
   "outputs": [
    {
     "name": "stdout",
     "output_type": "stream",
     "text": [
      "      Sample            Filename               File.type              Encoding\n",
      "1 SRR2834933 SRR2834933.fastq.gz Conventional base calls Sanger / Illumina 1.9\n",
      "2 SRR2834934 SRR2834934.fastq.gz Conventional base calls Sanger / Illumina 1.9\n",
      "3 SRR2834935 SRR2834935.fastq.gz Conventional base calls Sanger / Illumina 1.9\n",
      "4 SRR2834936 SRR2834936.fastq.gz Conventional base calls Sanger / Illumina 1.9\n",
      "5 SRR2834937 SRR2834937.fastq.gz Conventional base calls Sanger / Illumina 1.9\n",
      "6 SRR2834938 SRR2834938.fastq.gz Conventional base calls Sanger / Illumina 1.9\n",
      "  Total.Sequences Total.Bases Sequences.flagged.as.poor.quality Sequence.length\n",
      "1        12350899   617.5 Mbp                                 0              50\n",
      "2        15081143     754 Mbp                                 0              50\n",
      "3         5245513   262.2 Mbp                                 0              50\n",
      "4         8941418     447 Mbp                                 0              50\n",
      "5         8907800   445.3 Mbp                                 0              50\n",
      "6         7473593   373.6 Mbp                                 0              50\n",
      "  X.GC total_deduplicated_percentage avg_sequence_length median_sequence_length\n",
      "1   56                      3.764245                  50                     50\n",
      "2   56                      3.462395                  50                     50\n",
      "3   56                      4.159770                  50                     50\n",
      "4   56                      3.172785                  50                     50\n",
      "5   55                      3.316026                  50                     50\n",
      "6   55                      3.685029                  50                     50\n",
      "  basic_statistics per_base_sequence_quality per_tile_sequence_quality\n",
      "1             pass                      pass                      warn\n",
      "2             pass                      pass                      warn\n",
      "3             pass                      pass                      warn\n",
      "4             pass                      pass                      warn\n",
      "5             pass                      pass                      warn\n",
      "6             pass                      pass                      warn\n",
      "  per_sequence_quality_scores per_base_sequence_content per_sequence_gc_content\n",
      "1                        pass                      fail                    fail\n",
      "2                        pass                      fail                    fail\n",
      "3                        pass                      fail                    fail\n",
      "4                        pass                      fail                    fail\n",
      "5                        pass                      fail                    fail\n",
      "6                        pass                      fail                    fail\n",
      "  per_base_n_content sequence_length_distribution sequence_duplication_levels\n",
      "1               pass                         pass                        fail\n",
      "2               pass                         pass                        fail\n",
      "3               pass                         pass                        fail\n",
      "4               pass                         pass                        fail\n",
      "5               pass                         pass                        fail\n",
      "6               pass                         pass                        fail\n",
      "  overrepresented_sequences adapter_content\n",
      "1                      fail            fail\n",
      "2                      fail            fail\n",
      "3                      fail            fail\n",
      "4                      fail            fail\n",
      "5                      fail            fail\n",
      "6                      fail            fail\n"
     ]
    }
   ],
   "source": [
    "# Run MultiQC to generate a combined QC report\n",
    "system(\"multiqc -f data/fastqc_samples/\")\n",
    "\n",
    "# Read and display the MultiQC data using R's data frames\n",
    "multiqc_data <- read.csv(\"./multiqc_data/multiqc_fastqc.txt\", sep = \"\\t\")\n",
    "print(multiqc_data)"
   ]
  },
  {
   "cell_type": "markdown",
   "id": "ae0649b6-8a3c-4ea7-90f8-f7704e7eebd4",
   "metadata": {},
   "source": [
    "## Step 7: STAR Genome Indexing"
   ]
  },
  {
   "cell_type": "markdown",
   "id": "419264ef-94ed-4189-b20f-e59db8a0aeb3",
   "metadata": {
    "tags": []
   },
   "source": [
    "Generate a genome index using STAR."
   ]
  },
  {
   "cell_type": "code",
   "execution_count": 10,
   "id": "462a7b99-4188-4d3d-b4b2-61b01b1c2841",
   "metadata": {
    "tags": []
   },
   "outputs": [],
   "source": [
    "# Run STAR genome indexing inside Docker\n",
    "system(paste0(\n",
    "  \"docker run --rm -v \", getwd(), \":/data \",\n",
    "      \"encodedcc/mirna-seq-pipeline:1.2.2 \",\n",
    "  \"STAR --runThreadN \", THREADS, \n",
    "  \" --runMode genomeGenerate\",\n",
    "  \" --genomeDir /data/data/zebrafish_STAR_index\",\n",
    "  \" --genomeFastaFiles /data/data/reference/zebrafish_genome.fa\",\n",
    "  \" --sjdbGTFfile /data/data/reference/dre_zebrafish.gtf\",\n",
    "  \" --limitGenomeGenerateRAM 29000000000 --sjdbOverhang 1\"\n",
    "))"
   ]
  },
  {
   "cell_type": "markdown",
   "id": "8bb10737-dd48-4923-ba2a-3cb368211886",
   "metadata": {},
   "source": [
    "## Step 8: STAR Genome Alignment"
   ]
  },
  {
   "cell_type": "markdown",
   "id": "1ce0cda8-e3fd-4a9a-b8f4-4b1a22a0f01c",
   "metadata": {},
   "source": [
    "Generate a genome alignment of the trimmed FASTQ files to the genome using STAR."
   ]
  },
  {
   "cell_type": "code",
   "execution_count": 6,
   "id": "3a84a262-85ac-430d-ac79-79367c9dd47f",
   "metadata": {
    "tags": []
   },
   "outputs": [
    {
     "name": "stdout",
     "output_type": "stream",
     "text": [
      "[1] \"Processing accession: SRR2834933\"\n",
      "[1] \"Processing accession: SRR2834934\"\n",
      "[1] \"Processing accession: SRR2834935\"\n",
      "[1] \"Processing accession: SRR2834936\"\n",
      "[1] \"Processing accession: SRR2834937\"\n",
      "[1] \"Processing accession: SRR2834938\"\n"
     ]
    }
   ],
   "source": [
    "# Read accession IDs from the file\n",
    "accs_ids <- readLines(\"accs.txt\")\n",
    "\n",
    "# Loop through each accession ID\n",
    "for (i in 1:length(accs_ids)) {\n",
    "  acc <- accs_ids[i]\n",
    "\n",
    "  # Construct the command\n",
    "  system(paste0(\n",
    "    \"docker run --rm -v \", getwd(), \":/data \",\n",
    "    \"encodedcc/mirna-seq-pipeline:1.2.2 \",\n",
    "    \"STAR --genomeDir /data/data/zebrafish_STAR_index \",\n",
    "    \" --readFilesIn /data/data/trimmed/\", acc, \"_trimmed.fastq \",\n",
    "    \" --sjdbGTFfile /data/data/reference/dre_zebrafish.gtf \",\n",
    "    \" --runThreadN \", THREADS,\n",
    "    \" --alignEndsType EndToEnd \",\n",
    "    \" --outFilterMismatchNmax 1 \",\n",
    "    \" --outFilterMultimapScoreRange 0 \",\n",
    "    \" --quantMode TranscriptomeSAM GeneCounts \",\n",
    "    \" --outReadsUnmapped Fastx \",\n",
    "    \" --outSAMtype BAM SortedByCoordinate \",\n",
    "    \" --outFilterMultimapNmax 10 \",\n",
    "    \" --outSAMunmapped Within \",\n",
    "    \" --outFilterScoreMinOverLread 0 \",\n",
    "    \" --outFilterMatchNminOverLread 0 \",\n",
    "    \" --outFilterMatchNmin 16 \",\n",
    "    \" --alignSJDBoverhangMin 1000 \",\n",
    "    \" --alignIntronMax 1 \",\n",
    "    \" --outWigType wiggle \",\n",
    "    \" --outWigStrand Stranded \",\n",
    "    \" --outWigNorm RPM \",\n",
    "    \"--outFileNamePrefix /data/data/aligned_bam/\", acc, \"_\"\n",
    "  ))\n",
    "}"
   ]
  },
  {
   "cell_type": "markdown",
   "id": "e6a19ab8-2e84-4a55-9d96-db0c6273da50",
   "metadata": {},
   "source": [
    "## Step 9: Accessing Results"
   ]
  },
  {
   "cell_type": "code",
   "execution_count": 134,
   "id": "97c2b2e6-ae10-465c-bdbe-fb64bab99a41",
   "metadata": {
    "tags": []
   },
   "outputs": [
    {
     "name": "stdout",
     "output_type": "stream",
     "text": [
      "       N_multimapping X40516 X40516.1 X40516.2\n",
      "1         N_noFeature  16722    16722    16722\n",
      "2         N_ambiguous      0        0        0\n",
      "3  Dre-Mir-723-P2_pre      0        0        0\n",
      "4    Dre-Mir-2189_pre      0        0        0\n",
      "5 Dre-Mir-128-P2b_pre      0        0        0\n"
     ]
    }
   ],
   "source": [
    "# Specify the file path\n",
    "file_path <- \"data/aligned_bam/SRR2834934_ReadsPerGene.out.tab\"\n",
    "\n",
    "# Read the file into R\n",
    "file_data <- read.table(file_path, header = TRUE, skip = 1)\n",
    "\n",
    "# Print the content to the console\n",
    "print(file_data)\n"
   ]
  },
  {
   "cell_type": "code",
   "execution_count": 133,
   "id": "eda5a82a-84c6-42bf-80d5-bbd73a263a27",
   "metadata": {
    "tags": []
   },
   "outputs": [
    {
     "ename": "ERROR",
     "evalue": "Error in `rownames<-`(`*tmp*`, value = colnames(countData)): missing values not allowed in rownames\n",
     "output_type": "error",
     "traceback": [
      "Error in `rownames<-`(`*tmp*`, value = colnames(countData)): missing values not allowed in rownames\nTraceback:\n",
      "1. `rownames<-`(`*tmp*`, value = colnames(countData))",
      "2. `rownames<-`(`*tmp*`, value = colnames(countData))",
      "3. stop(\"missing values not allowed in rownames\")",
      "4. .handleSimpleError(function (cnd) \n . {\n .     watcher$capture_plot_and_output()\n .     cnd <- sanitize_call(cnd)\n .     watcher$push(cnd)\n .     switch(on_error, continue = invokeRestart(\"eval_continue\"), \n .         stop = invokeRestart(\"eval_stop\"), error = invokeRestart(\"eval_error\", \n .             cnd))\n . }, \"missing values not allowed in rownames\", base::quote(`rownames<-`(`*tmp*`, \n .     value = colnames(countData))))"
     ]
    }
   ],
   "source": [
    "# Load necessary libraries\n",
    "library(DESeq2)\n",
    "library(dplyr)\n",
    "library(ggplot2)\n",
    "\n",
    "# Define function to read and process individual files\n",
    "read_and_process <- function(file_path) {\n",
    "  # Read data from the file, skipping the first row (header)\n",
    "  data <- read.table(file_path, header = TRUE, skip = 1)\n",
    "  \n",
    "  # Filter out rows with only zeros (excluding the first column with gene names)\n",
    "  data <- data[rowSums(data[, -1]) > 0, ]  \n",
    "  \n",
    "  # Remove unnecessary columns (N_*)\n",
    "  data <- data[!grepl(\"Dre-Mir\", colnames(data))]  # Keep rows not matching \"Dre-Mir\"\n",
    "  \n",
    "  # Remove rows with missing values in the first column (gene names)\n",
    "  data <- data[!is.na(data[, 1]), ]\n",
    "  \n",
    "  # Check for missing gene names before setting row names\n",
    "  if (any(is.na(data[[1]]))) {\n",
    "    warning(\"Missing gene names found in the data for file: \", file_path)\n",
    "  }\n",
    "  \n",
    "  # Return the filtered data\n",
    "  return(data)\n",
    "}\n",
    "\n",
    "# Read accession IDs from the file\n",
    "accs_ids <- readLines(\"accs.txt\")\n",
    "\n",
    "# Create an empty list to store count data\n",
    "count_data <- list()\n",
    "\n",
    "# Loop through each accession ID and process files\n",
    "for (acc in accs_ids) {\n",
    "  file_path <- paste0(\"data/aligned_bam/\", acc, \"_ReadsPerGene.out.tab\")\n",
    "  \n",
    "  # Read and process the file using the function\n",
    "  processed_data <- read_and_process(file_path)\n",
    "  \n",
    "  # Ensure that the gene names are consistent\n",
    "  if (nrow(processed_data) > 0) {\n",
    "    rownames(processed_data) <- processed_data[[1]]  # Set row names to gene names\n",
    "    count_data[[acc]] <- processed_data[, -1]  # Exclude gene names from the counts\n",
    "  } else {\n",
    "    warning(\"No data processed for accession: \", acc)\n",
    "  }\n",
    "}\n",
    "\n",
    "# Combine count data into a single data frame\n",
    "combined_data <- do.call(cbind, count_data)\n",
    "\n",
    "# Check for missing values in row names\n",
    "if (any(is.na(rownames(combined_data)))) {\n",
    "  stop(\"Missing values found in row names of combined data.\")\n",
    "}\n",
    "\n",
    "# Set column names to sample names\n",
    "colnames(combined_data) <- accs_ids\n",
    "\n",
    "# Define experimental condition for each sample\n",
    "condition <- rep(c(\"control\", \"treatment\"), times = c(3, 3))  # Adjust based on your experimental design\n",
    "\n",
    "# Create a data frame with sample information\n",
    "col_data <- data.frame(sample = colnames(combined_data), condition = condition, stringsAsFactors = TRUE)\n",
    "\n",
    "# Create DESeqDataSet object\n",
    "dds <- DESeqDataSetFromMatrix(countData = combined_data, colData = col_data, design = ~ condition)\n",
    "\n",
    "# Optional: Filter for low counts\n",
    "# You can adjust the threshold based on your data\n",
    "low_counts <- rowSums(counts(dds)) < 10\n",
    "dds <- dds[!low_counts, ]\n",
    "\n",
    "# Run DESeq analysis\n",
    "dds <- DESeq(dds)\n",
    "\n",
    "# Get normalized counts\n",
    "normalized_counts <- counts(dds, normalized = TRUE)\n",
    "\n",
    "# Differential expression analysis\n",
    "de_results <- results(dds)\n",
    "\n",
    "# Filter significant differentially expressed genes (optional)\n",
    "sig_de <- de_results[de_results$padj < 0.05 & abs(de_results$log2FoldChange) > 1, ]\n",
    "\n",
    "# Volcano plot\n",
    "ggplot(as.data.frame(de_results), aes(x = log2FoldChange, y = -log10(pvalue))) +\n",
    "  geom_point(aes(color = padj < 0.05), size = 3) +\n",
    "  scale_color_manual(values = c(\"grey\", \"red\")) +\n",
    "  ggtitle(\"Volcano Plot\") +\n",
    "  xlab(\"Log2 Fold Change\") +\n",
    "  ylab(\"-log10(P-value)\")\n",
    "\n",
    "# Heatmap of normalized counts (optional)\n",
    "heatmap(normalized_counts, col = colorRampPalette(c(\"blue\", \"black\", \"yellow\"))(100))\n",
    "\n",
    "# Additional plots (optional)\n",
    "# You can create other plots like MA plots or scatter plots to explore the data further\n"
   ]
  },
  {
   "cell_type": "code",
   "execution_count": null,
   "id": "f614fbf9-7092-4e5a-ae37-a54166beaeb9",
   "metadata": {},
   "outputs": [],
   "source": [
    "\n",
    "# Create DESeqDataSet object\n",
    "dds <- DESeqDataSetFromMatrix(countData = as.matrix(combined_data), colData = col_data, design = ~ condition)\n",
    "\n",
    "# Filter for low counts (optional)\n",
    "# You can adjust the threshold based on your data\n",
    "low_counts <- rowSums(dds$counts) < 10\n",
    "dds <- dds[!low_counts, ]\n",
    "\n",
    "# Normalize the data (DESeq2 recommends vst)\n",
    "dds <- DESeq(dds)\n",
    "normalized_counts <- counts(dds, normalized = TRUE)\n",
    "\n",
    "# Differential expression analysis\n",
    "de_results <- results(dds)\n",
    "\n",
    "# Filter significant differentially expressed genes (optional"
   ]
  },
  {
   "cell_type": "code",
   "execution_count": null,
   "id": "43a440da-2073-49a0-9900-53c517b93952",
   "metadata": {},
   "outputs": [],
   "source": [
    "# Create DESeqDataSet object\n",
    "dds <- DESeqDataSetFromMatrix(countData = combined_data, colData = col_data, design = ~ condition)\n",
    "\n",
    "# Optional: Filter for low counts\n",
    "# You can adjust the threshold based on your data\n",
    "low_counts <- rowSums(counts(dds)) < 10\n",
    "dds <- dds[!low_counts, ]\n",
    "\n",
    "# Run DESeq analysis\n",
    "dds <- DESeq(dds)\n",
    "\n",
    "# Get normalized counts\n",
    "normalized_counts <- counts(dds, normalized = TRUE)\n",
    "\n",
    "# Differential expression analysis\n",
    "de_results <- results(dds)\n",
    "\n",
    "# Filter significant differentially expressed genes (optional)\n",
    "sig_de <- de_results[de_results$padj < 0.05 & abs(de_results$log2FoldChange) > 1, ]\n"
   ]
  },
  {
   "cell_type": "code",
   "execution_count": null,
   "id": "b6e2e14d-9c51-4e4f-9455-d1e4e2e82822",
   "metadata": {},
   "outputs": [],
   "source": [
    "# Volcano plot\n",
    "ggplot(as.data.frame(de_results), aes(x = log2FoldChange, y = -log10(pvalue))) +\n",
    "  geom_point(aes(color = padj < 0.05), size = 3) +\n",
    "  scale_color_manual(values = c(\"grey\", \"red\")) +\n",
    "  ggtitle(\"Volcano Plot\") +\n",
    "  xlab(\"Log2 Fold Change\") +\n",
    "  ylab(\"-log10(P-value)\")\n",
    "\n",
    "# Heatmap of normalized counts (optional)\n",
    "heatmap(normalized_counts, col = colorRampPalette(c(\"blue\", \"black\", \"yellow\"))(100))\n"
   ]
  },
  {
   "cell_type": "code",
   "execution_count": null,
   "id": "3e0cc144-4046-4b1a-ae27-c75b92091fd0",
   "metadata": {},
   "outputs": [],
   "source": []
  },
  {
   "cell_type": "code",
   "execution_count": 76,
   "id": "66273d19-3a1c-444d-b580-c3aff323516f",
   "metadata": {
    "tags": []
   },
   "outputs": [
    {
     "name": "stdout",
     "output_type": "stream",
     "text": [
      "\n"
     ]
    }
   ],
   "source": [
    "output <- system(\"featureCounts -a data/reference/dre_zebrafish.gtf -o counts.txt data/aligned_bam/*_Aligned.sortedByCoord.out.bam\", intern = TRUE, ignore.stderr = FALSE)\n",
    "cat(output, sep = \"\\n\")"
   ]
  },
  {
   "cell_type": "code",
   "execution_count": 104,
   "id": "6a4df6d3-3f26-4f4a-a119-4ca3a461d1a8",
   "metadata": {
    "tags": []
   },
   "outputs": [
    {
     "name": "stdout",
     "output_type": "stream",
     "text": [
      "Current column names: \n",
      " [1] \"Chr\"                                                      \n",
      " [2] \"Start\"                                                    \n",
      " [3] \"End\"                                                      \n",
      " [4] \"Strand\"                                                   \n",
      " [5] \"Length\"                                                   \n",
      " [6] \"data.aligned_bam.SRR2834933_Aligned.sortedByCoord.out.bam\"\n",
      " [7] \"data.aligned_bam.SRR2834934_Aligned.sortedByCoord.out.bam\"\n",
      " [8] \"data.aligned_bam.SRR2834935_Aligned.sortedByCoord.out.bam\"\n",
      " [9] \"data.aligned_bam.SRR2834936_Aligned.sortedByCoord.out.bam\"\n",
      "[10] \"data.aligned_bam.SRR2834937_Aligned.sortedByCoord.out.bam\"\n",
      "[11] \"data.aligned_bam.SRR2834938_Aligned.sortedByCoord.out.bam\"\n",
      "Updated column names: \n",
      " [1] \"Chr\"        \"Start\"      \"End\"        \"Strand\"     \"Length\"    \n",
      " [6] \"SRR2834933\" \"SRR2834934\" \"SRR2834935\" \"SRR2834936\" \"SRR2834937\"\n",
      "[11] \"SRR2834938\"\n"
     ]
    }
   ],
   "source": [
    "# Step 1: Read in the count data, treating the first column (Geneid) as row names\n",
    "count_data <- read.table(\"counts.txt\", header = TRUE, skip = 1, row.names = 1)\n",
    "\n",
    "# Step 2: Check current column names\n",
    "cat(\"Current column names: \\n\")\n",
    "print(colnames(count_data))\n",
    "\n",
    "# Step 3: Rename columns to extract SRR numbers from the file paths\n",
    "# We'll exclude the first five columns (\"Chr\", \"Start\", \"End\", \"Strand\", \"Length\") from renaming\n",
    "colnames(count_data)[6:ncol(count_data)] <- gsub(\".*(SRR[0-9]+).*\", \"\\\\1\", colnames(count_data)[6:ncol(count_data)])\n",
    "\n",
    "# Step 4: Check the new column names to ensure they are correct\n",
    "cat(\"Updated column names: \\n\")\n",
    "print(colnames(count_data))\n",
    "\n",
    "# Step 5: Add \"Geneid\" as the header for the row names\n",
    "colnames(count_data) <- c(\"Chr\", \"Start\", \"End\", \"Strand\", \"Length\", colnames(count_data)[6:ncol(count_data)])\n",
    "\n",
    "# Step 6: Write the cleaned count data to a new file with \"Geneid\" as the first column\n",
    "write.table(cbind(Geneid = rownames(count_data), count_data), \n",
    "            file = \"cleaned_counts.txt\", \n",
    "            sep = \"\\t\", \n",
    "            quote = FALSE, \n",
    "            row.names = FALSE)\n"
   ]
  },
  {
   "cell_type": "code",
   "execution_count": 116,
   "id": "d318bbe0-50b9-4655-9521-38d47096be75",
   "metadata": {
    "tags": []
   },
   "outputs": [
    {
     "data": {
      "text/html": [
       "<style>\n",
       ".list-inline {list-style: none; margin:0; padding: 0}\n",
       ".list-inline>li {display: inline-block}\n",
       ".list-inline>li:not(:last-child)::after {content: \"\\00b7\"; padding: 0 .5ex}\n",
       "</style>\n",
       "<ol class=list-inline><li>362</li><li>11</li></ol>\n"
      ],
      "text/latex": [
       "\\begin{enumerate*}\n",
       "\\item 362\n",
       "\\item 11\n",
       "\\end{enumerate*}\n"
      ],
      "text/markdown": [
       "1. 362\n",
       "2. 11\n",
       "\n",
       "\n"
      ],
      "text/plain": [
       "[1] 362  11"
      ]
     },
     "metadata": {},
     "output_type": "display_data"
    },
    {
     "data": {
      "text/html": [
       "<style>\n",
       ".list-inline {list-style: none; margin:0; padding: 0}\n",
       ".list-inline>li {display: inline-block}\n",
       ".list-inline>li:not(:last-child)::after {content: \"\\00b7\"; padding: 0 .5ex}\n",
       "</style>\n",
       "<ol class=list-inline><li>6</li><li>1</li></ol>\n"
      ],
      "text/latex": [
       "\\begin{enumerate*}\n",
       "\\item 6\n",
       "\\item 1\n",
       "\\end{enumerate*}\n"
      ],
      "text/markdown": [
       "1. 6\n",
       "2. 1\n",
       "\n",
       "\n"
      ],
      "text/plain": [
       "[1] 6 1"
      ]
     },
     "metadata": {},
     "output_type": "display_data"
    },
    {
     "data": {
      "text/html": [
       "<style>\n",
       ".list-inline {list-style: none; margin:0; padding: 0}\n",
       ".list-inline>li {display: inline-block}\n",
       ".list-inline>li:not(:last-child)::after {content: \"\\00b7\"; padding: 0 .5ex}\n",
       "</style>\n",
       "<ol class=list-inline><li>'Chr'</li><li>'Start'</li><li>'End'</li><li>'Strand'</li><li>'Length'</li><li>'SRR2834933'</li><li>'SRR2834934'</li><li>'SRR2834935'</li><li>'SRR2834936'</li><li>'SRR2834937'</li><li>'SRR2834938'</li></ol>\n"
      ],
      "text/latex": [
       "\\begin{enumerate*}\n",
       "\\item 'Chr'\n",
       "\\item 'Start'\n",
       "\\item 'End'\n",
       "\\item 'Strand'\n",
       "\\item 'Length'\n",
       "\\item 'SRR2834933'\n",
       "\\item 'SRR2834934'\n",
       "\\item 'SRR2834935'\n",
       "\\item 'SRR2834936'\n",
       "\\item 'SRR2834937'\n",
       "\\item 'SRR2834938'\n",
       "\\end{enumerate*}\n"
      ],
      "text/markdown": [
       "1. 'Chr'\n",
       "2. 'Start'\n",
       "3. 'End'\n",
       "4. 'Strand'\n",
       "5. 'Length'\n",
       "6. 'SRR2834933'\n",
       "7. 'SRR2834934'\n",
       "8. 'SRR2834935'\n",
       "9. 'SRR2834936'\n",
       "10. 'SRR2834937'\n",
       "11. 'SRR2834938'\n",
       "\n",
       "\n"
      ],
      "text/plain": [
       " [1] \"Chr\"        \"Start\"      \"End\"        \"Strand\"     \"Length\"    \n",
       " [6] \"SRR2834933\" \"SRR2834934\" \"SRR2834935\" \"SRR2834936\" \"SRR2834937\"\n",
       "[11] \"SRR2834938\""
      ]
     },
     "metadata": {},
     "output_type": "display_data"
    },
    {
     "name": "stderr",
     "output_type": "stream",
     "text": [
      "Warning message in DESeqDataSet(se, design = design, ignoreRank):\n",
      "“some variables in design formula are characters, converting to factors”\n",
      "estimating size factors\n",
      "\n",
      "estimating dispersions\n",
      "\n",
      "gene-wise dispersion estimates\n",
      "\n",
      "mean-dispersion relationship\n",
      "\n",
      "final dispersion estimates\n",
      "\n",
      "fitting model and testing\n",
      "\n"
     ]
    },
    {
     "name": "stdout",
     "output_type": "stream",
     "text": [
      "\n",
      "out of 32 with nonzero total read count\n",
      "adjusted p-value < 0.1\n",
      "LFC > 0 (up)       : 0, 0%\n",
      "LFC < 0 (down)     : 0, 0%\n",
      "outliers [1]       : 0, 0%\n",
      "low counts [2]     : 0, 0%\n",
      "(mean count < 0)\n",
      "[1] see 'cooksCutoff' argument of ?results\n",
      "[2] see 'independentFiltering' argument of ?results\n",
      "\n"
     ]
    }
   ],
   "source": [
    "# Load necessary library\n",
    "library(DESeq2)\n",
    "\n",
    "# Read in the count data\n",
    "count_data <- read.table(\"cleaned_counts.txt\", header = TRUE, row.names = 1)\n",
    "\n",
    "# Confirm dimensions\n",
    "dim(count_data)  # Should show 36211 rows and 6 columns\n",
    "\n",
    "# Create col_data with the correct number of conditions\n",
    "col_data <- data.frame(condition = c(\"0dpa\", \"0dpa\", \"0dpa\", \"4dpa\", \"4dpa\", \"4dpa\"))  # Adjust according to your experimental design\n",
    "\n",
    "# Confirm dimensions of col_data\n",
    "dim(col_data)    # Should show 6 rows to match count_data\n",
    "\n",
    "# Check column names to ensure they match\n",
    "colnames(count_data)\n",
    "\n",
    "# Create DESeq2 object\n",
    "dds <- DESeqDataSetFromMatrix(countData = count_data[, -c(1:5)], colData = col_data, design = ~ condition)  # Exclude the annotation columns\n",
    "\n",
    "# Run the DESeq analysis\n",
    "dds <- DESeq(dds)\n",
    "\n",
    "# Get results\n",
    "results <- results(dds)\n",
    "\n",
    "# Summary of results\n",
    "summary(results)\n"
   ]
  },
  {
   "cell_type": "code",
   "execution_count": 106,
   "id": "02708426-6826-4c54-97d3-2d20ad41e052",
   "metadata": {
    "tags": []
   },
   "outputs": [
    {
     "data": {
      "text/html": [
       "<table class=\"dataframe\">\n",
       "<caption>A data.frame: 6 × 11</caption>\n",
       "<thead>\n",
       "\t<tr><th></th><th scope=col>Chr</th><th scope=col>Start</th><th scope=col>End</th><th scope=col>Strand</th><th scope=col>Length</th><th scope=col>SRR2834933</th><th scope=col>SRR2834934</th><th scope=col>SRR2834935</th><th scope=col>SRR2834936</th><th scope=col>SRR2834937</th><th scope=col>SRR2834938</th></tr>\n",
       "\t<tr><th></th><th scope=col>&lt;chr&gt;</th><th scope=col>&lt;int&gt;</th><th scope=col>&lt;int&gt;</th><th scope=col>&lt;chr&gt;</th><th scope=col>&lt;int&gt;</th><th scope=col>&lt;int&gt;</th><th scope=col>&lt;int&gt;</th><th scope=col>&lt;int&gt;</th><th scope=col>&lt;int&gt;</th><th scope=col>&lt;int&gt;</th><th scope=col>&lt;int&gt;</th></tr>\n",
       "</thead>\n",
       "<tbody>\n",
       "\t<tr><th scope=row>Dre-Mir-155_pre</th><td>chr1</td><td> 576454</td><td> 576513</td><td>+</td><td>60</td><td>0</td><td>0</td><td>0</td><td>0</td><td>0</td><td>0</td></tr>\n",
       "\t<tr><th scope=row>Dre-Mir-459_pre</th><td>chr1</td><td>1575493</td><td>1575555</td><td>+</td><td>63</td><td>0</td><td>0</td><td>0</td><td>0</td><td>0</td><td>0</td></tr>\n",
       "\t<tr><th scope=row>Dre-Mir-92-P1a1_pre</th><td>chr1</td><td>3297377</td><td>3297435</td><td>-</td><td>59</td><td>1</td><td>0</td><td>0</td><td>0</td><td>0</td><td>0</td></tr>\n",
       "\t<tr><th scope=row>Dre-Mir-19-P2a1_pre</th><td>chr1</td><td>3297494</td><td>3297555</td><td>-</td><td>62</td><td>0</td><td>0</td><td>0</td><td>0</td><td>0</td><td>0</td></tr>\n",
       "\t<tr><th scope=row>Dre-Mir-17-P4a1_pre</th><td>chr1</td><td>3297646</td><td>3297705</td><td>-</td><td>60</td><td>0</td><td>0</td><td>0</td><td>0</td><td>0</td><td>0</td></tr>\n",
       "\t<tr><th scope=row>Dre-Mir-19-P1a1_pre</th><td>chr1</td><td>3297862</td><td>3297919</td><td>-</td><td>58</td><td>0</td><td>0</td><td>0</td><td>0</td><td>0</td><td>0</td></tr>\n",
       "</tbody>\n",
       "</table>\n"
      ],
      "text/latex": [
       "A data.frame: 6 × 11\n",
       "\\begin{tabular}{r|lllllllllll}\n",
       "  & Chr & Start & End & Strand & Length & SRR2834933 & SRR2834934 & SRR2834935 & SRR2834936 & SRR2834937 & SRR2834938\\\\\n",
       "  & <chr> & <int> & <int> & <chr> & <int> & <int> & <int> & <int> & <int> & <int> & <int>\\\\\n",
       "\\hline\n",
       "\tDre-Mir-155\\_pre & chr1 &  576454 &  576513 & + & 60 & 0 & 0 & 0 & 0 & 0 & 0\\\\\n",
       "\tDre-Mir-459\\_pre & chr1 & 1575493 & 1575555 & + & 63 & 0 & 0 & 0 & 0 & 0 & 0\\\\\n",
       "\tDre-Mir-92-P1a1\\_pre & chr1 & 3297377 & 3297435 & - & 59 & 1 & 0 & 0 & 0 & 0 & 0\\\\\n",
       "\tDre-Mir-19-P2a1\\_pre & chr1 & 3297494 & 3297555 & - & 62 & 0 & 0 & 0 & 0 & 0 & 0\\\\\n",
       "\tDre-Mir-17-P4a1\\_pre & chr1 & 3297646 & 3297705 & - & 60 & 0 & 0 & 0 & 0 & 0 & 0\\\\\n",
       "\tDre-Mir-19-P1a1\\_pre & chr1 & 3297862 & 3297919 & - & 58 & 0 & 0 & 0 & 0 & 0 & 0\\\\\n",
       "\\end{tabular}\n"
      ],
      "text/markdown": [
       "\n",
       "A data.frame: 6 × 11\n",
       "\n",
       "| <!--/--> | Chr &lt;chr&gt; | Start &lt;int&gt; | End &lt;int&gt; | Strand &lt;chr&gt; | Length &lt;int&gt; | SRR2834933 &lt;int&gt; | SRR2834934 &lt;int&gt; | SRR2834935 &lt;int&gt; | SRR2834936 &lt;int&gt; | SRR2834937 &lt;int&gt; | SRR2834938 &lt;int&gt; |\n",
       "|---|---|---|---|---|---|---|---|---|---|---|---|\n",
       "| Dre-Mir-155_pre | chr1 |  576454 |  576513 | + | 60 | 0 | 0 | 0 | 0 | 0 | 0 |\n",
       "| Dre-Mir-459_pre | chr1 | 1575493 | 1575555 | + | 63 | 0 | 0 | 0 | 0 | 0 | 0 |\n",
       "| Dre-Mir-92-P1a1_pre | chr1 | 3297377 | 3297435 | - | 59 | 1 | 0 | 0 | 0 | 0 | 0 |\n",
       "| Dre-Mir-19-P2a1_pre | chr1 | 3297494 | 3297555 | - | 62 | 0 | 0 | 0 | 0 | 0 | 0 |\n",
       "| Dre-Mir-17-P4a1_pre | chr1 | 3297646 | 3297705 | - | 60 | 0 | 0 | 0 | 0 | 0 | 0 |\n",
       "| Dre-Mir-19-P1a1_pre | chr1 | 3297862 | 3297919 | - | 58 | 0 | 0 | 0 | 0 | 0 | 0 |\n",
       "\n"
      ],
      "text/plain": [
       "                    Chr  Start   End     Strand Length SRR2834933 SRR2834934\n",
       "Dre-Mir-155_pre     chr1  576454  576513 +      60     0          0         \n",
       "Dre-Mir-459_pre     chr1 1575493 1575555 +      63     0          0         \n",
       "Dre-Mir-92-P1a1_pre chr1 3297377 3297435 -      59     1          0         \n",
       "Dre-Mir-19-P2a1_pre chr1 3297494 3297555 -      62     0          0         \n",
       "Dre-Mir-17-P4a1_pre chr1 3297646 3297705 -      60     0          0         \n",
       "Dre-Mir-19-P1a1_pre chr1 3297862 3297919 -      58     0          0         \n",
       "                    SRR2834935 SRR2834936 SRR2834937 SRR2834938\n",
       "Dre-Mir-155_pre     0          0          0          0         \n",
       "Dre-Mir-459_pre     0          0          0          0         \n",
       "Dre-Mir-92-P1a1_pre 0          0          0          0         \n",
       "Dre-Mir-19-P2a1_pre 0          0          0          0         \n",
       "Dre-Mir-17-P4a1_pre 0          0          0          0         \n",
       "Dre-Mir-19-P1a1_pre 0          0          0          0         "
      ]
     },
     "metadata": {},
     "output_type": "display_data"
    }
   ],
   "source": [
    "head(count_data)  # View the first few lines of count data\n"
   ]
  },
  {
   "cell_type": "code",
   "execution_count": 108,
   "id": "fc35a233-1260-41bb-a1e1-1887edc0e1e4",
   "metadata": {
    "tags": []
   },
   "outputs": [
    {
     "name": "stderr",
     "output_type": "stream",
     "text": [
      "using ntop=500 top features by variance\n",
      "\n"
     ]
    },
    {
     "data": {
      "image/png": "[encoded data removed]",
      "text/plain": [
       "plot without title"
      ]
     },
     "metadata": {
      "image/png": {
       "height": 420,
       "width": 420
      }
     },
     "output_type": "display_data"
    }
   ],
   "source": [
    "# Use varianceStabilizingTransformation directly\n",
    "vsd <- varianceStabilizingTransformation(dds, blind = FALSE)\n",
    "\n",
    "# Perform PCA on the transformed data and plot the first two principal components\n",
    "pcaData <- plotPCA(vsd, intgroup = \"condition\", returnData = TRUE)\n",
    "percentVar <- round(100 * attr(pcaData, \"percentVar\"))\n",
    "\n",
    "# Create a PCA plot using ggplot2\n",
    "ggplot(pcaData, aes(PC1, PC2, color = condition)) +\n",
    "  geom_point(size = 3) +\n",
    "  xlab(paste0(\"PC1: \", percentVar[1], \"% variance\")) +\n",
    "  ylab(paste0(\"PC2: \", percentVar[2], \"% variance\")) +\n",
    "  theme_minimal() +\n",
    "  ggtitle(\"PCA plot of small RNA-seq data\")\n"
   ]
  },
  {
   "cell_type": "code",
   "execution_count": 117,
   "id": "e4605a36-f8a0-4f50-ab65-8824ef103f9e",
   "metadata": {
    "tags": []
   },
   "outputs": [
    {
     "data": {
      "image/png": "[encoded data removed]",
      "text/plain": [
       "plot without title"
      ]
     },
     "metadata": {
      "image/png": {
       "height": 480,
       "width": 600
      }
     },
     "output_type": "display_data"
    }
   ],
   "source": [
    "# Convert results to a data frame for EnhancedVolcano\n",
    "res_df <- as.data.frame(results)\n",
    "res_df$gene <- rownames(res_df)  # Add gene names as a column if needed\n",
    "\n",
    "# Create the volcano plot\n",
    "EnhancedVolcano(res_df,\n",
    "  lab = res_df$gene,                 # Labels for the points (gene names)\n",
    "  x = 'log2FoldChange',              # Column for log2 fold change\n",
    "  y = 'padj',                        # Column for adjusted p-values\n",
    "  xlim = c(-3, 3),                   # X-axis limits\n",
    "  ylim = c(0, -log10(0.0001)),       # Y-axis limits; adjust according to your p-value range\n",
    "  pCutoff = 0.05,                    # Cutoff for significance\n",
    "  FCcutoff = 1,                      # Fold change cutoff\n",
    "  pointSize = 3.0,                   # Size of the points\n",
    "  labSize = 4.0,                     # Size of the labels\n",
    "  col = c(\"black\", \"red\"),           # Colors for points\n",
    "  title = 'Volcano Plot',            # Title of the plot\n",
    "  subtitle = 'Differentially Expressed Genes', # Subtitle\n",
    "  caption = 'Significance: p < 0.05',           # Caption\n",
    "  gridlines.major = FALSE,           # Remove major gridlines\n",
    "  gridlines.minor = FALSE             # Remove minor gridlines\n",
    ")\n"
   ]
  },
  {
   "cell_type": "code",
   "execution_count": 118,
   "id": "9a14e3cf-ed6f-483c-9c4b-8c792c4b4d04",
   "metadata": {
    "tags": []
   },
   "outputs": [
    {
     "data": {
      "image/png": "[encoded data removed]",
      "text/plain": [
       "Plot with title “”"
      ]
     },
     "metadata": {
      "image/png": {
       "height": 480,
       "width": 600
      }
     },
     "output_type": "display_data"
    },
    {
     "data": {
      "image/png": "[encoded data removed]",
      "text/plain": [
       "Plot with title “Histogram of results$pvalue”"
      ]
     },
     "metadata": {
      "image/png": {
       "height": 480,
       "width": 600
      }
     },
     "output_type": "display_data"
    }
   ],
   "source": [
    "# MA plot to visualize results\n",
    "plotMA(results)  \n",
    "hist(results$pvalue)  \n"
   ]
  },
  {
   "cell_type": "code",
   "execution_count": null,
   "id": "03005433-1b4d-45d5-a049-37e637287b62",
   "metadata": {},
   "outputs": [],
   "source": [
    "\n"
   ]
  }
 ],
 "metadata": {
  "kernelspec": {
   "display_name": "R",
   "language": "R",
   "name": "ir"
  },
  "language_info": {
   "codemirror_mode": "r",
   "file_extension": ".r",
   "mimetype": "text/x-r-source",
   "name": "R",
   "pygments_lexer": "r",
   "version": "4.4.1"
  }
 },
 "nbformat": 4,
 "nbformat_minor": 5
}
