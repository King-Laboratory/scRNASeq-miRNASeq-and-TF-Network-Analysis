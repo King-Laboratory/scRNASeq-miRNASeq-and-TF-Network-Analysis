{
 "cells": [
  {
   "cell_type": "code",
   "execution_count": null,
   "id": "77ea9b5b",
   "metadata": {
    "tags": []
   },
   "outputs": [],
   "source": [
    "# Install Mambaforge using curl and bash\n",
    "system('curl -L -O https://github.com/conda-forge/miniforge/releases/latest/download/Mambaforge-Linux-x86_64.sh', intern = TRUE)\n",
    "system('bash Mambaforge-Linux-x86_64.sh -b -u -p $HOME/mambaforge', intern = TRUE)\n",
    "\n",
    "# Add mambaforge bin to the system path\n",
    "Sys.setenv(PATH = paste(Sys.getenv(\"HOME\"), \"/mambaforge/bin:\", Sys.getenv(\"PATH\"), sep = \"\"))"
   ]
  },
  {
   "cell_type": "code",
   "execution_count": null,
   "id": "c5721242",
   "metadata": {
    "tags": []
   },
   "outputs": [],
   "source": [
    "# Install gsutil and dependencies using mamba\n",
    "system('mamba install -y -c conda-forge -c bioconda gsutil', intern = TRUE)"
   ]
  },
  {
   "cell_type": "code",
   "execution_count": null,
   "id": "1f712580",
   "metadata": {
    "tags": []
   },
   "outputs": [],
   "source": [
    "# Install BiocManager if not installed\n",
    "if (!requireNamespace(\"BiocManager\", quietly = TRUE))\n",
    "    install.packages(\"BiocManager\")\n",
    "\n",
    "# Set repositories\n",
    "options(repos = BiocManager::repositories())\n",
    "\n",
    "# Install Bioconductor packages\n",
    "BiocManager::install(c(\"ComplexHeatmap\", \"DESeq2\", \"edgeR\"), force = TRUE)\n",
    "\n",
    "# Install CRAN packages\n",
    "install.packages(c(\"dplyr\", \"pheatmap\", \"ggrepel\", \"ggfortify\", \"devtools\"), dependencies = TRUE)"
   ]
  },
  {
   "cell_type": "code",
   "execution_count": null,
   "id": "fa8b109f",
   "metadata": {
    "tags": []
   },
   "outputs": [],
   "source": [
    "# Load libraries\n",
    "library(DESeq2)\n",
    "library(dplyr)\n",
    "library(ComplexHeatmap)\n",
    "library(edgeR)\n",
    "library(ggplot2)\n",
    "library(ggrepel)\n",
    "library(ggfortify)\n",
    "library(devtools)"
   ]
  },
  {
   "cell_type": "code",
   "execution_count": null,
   "id": "990f99b2",
   "metadata": {
    "tags": []
   },
   "outputs": [],
   "source": [
    "# Install NetAct\n",
    "install_github(\"lusystemsbio/NetAct\", dependencies=T, build_vignettes = T)"
   ]
  },
  {
   "cell_type": "code",
   "execution_count": null,
   "id": "6535a134-47cf-406f-aa5c-6704ec517f3e",
   "metadata": {
    "tags": []
   },
   "outputs": [],
   "source": [
    "library(NetAct)\n",
    "\n",
    "#url <- \"https://www.ncbi.nlm.nih.gov/geo/download/?acc=GSE63310&format=file\"\n",
    "#utils::download.file(url, destfile=\"GSE63310_RAW.tar\", mode=\"wb\") \n",
    "#utils::untar(\"GSE63310_RAW.tar\", exdir = \".\")\n",
    "#files <- c(\"GSM1545535_10_6_5_11.txt\", \"GSM1545536_9_6_5_11.txt\", \"GSM1545538_purep53.txt\",\n",
    "#           \"GSM1545539_JMS8-2.txt\", \"GSM1545540_JMS8-3.txt\", \"GSM1545541_JMS8-4.txt\",\n",
    "#           \"GSM1545542_JMS8-5.txt\", \"GSM1545544_JMS9-P7c.txt\", \"GSM1545545_JMS9-P8c.txt\")\n",
    "#for(i in paste(files, \".gz\", sep=\"\")){\n",
    "#  R.utils::gunzip(i, overwrite=TRUE)\n",
    "#}\n",
    "\n",
    "#files <- c(\"IAV06_IAV12_read_counts.txt\")\n",
    "\n",
    "files <- c(\"GSM1545535_10_6_5_11.txt\", \"GSM1545536_9_6_5_11.txt\", \n",
    "           \"GSM1545538_purep53.txt\", \"GSM1545539_JMS8-2.txt\", \n",
    "           \"GSM1545540_JMS8-3.txt\", \"GSM1545541_JMS8-4.txt\", \n",
    "           \"GSM1545542_JMS8-5.txt\", \"GSM1545544_JMS9-P7c.txt\", \n",
    "           \"GSM1545545_JMS9-P8c.txt\")\n",
    "\n",
    "x <- edgeR::readDGE(files, columns=c(1,3))\n",
    "group <- as.factor(c(\"LP\", \"ML\", \"Basal\", \"Basal\", \"ML\", \"LP\", \"Basal\", \"ML\", \"LP\"))\n",
    "x$samples$group <- group\n",
    "samplenames <- c(\"LP1\", \"ML1\", \"Basal1\", \"Basal2\", \"ML2\", \"LP2\", \"Basal3\", \"ML3\", \"LP3\")\n",
    "colnames(x) <- samplenames"
   ]
  },
  {
   "cell_type": "code",
   "execution_count": null,
   "id": "6b391be6-bd94-4bff-b29b-aa8ce562c8f8",
   "metadata": {
    "tags": []
   },
   "outputs": [],
   "source": [
    "compList <- c(\"Basal-LP\", \"Basal-ML\", \"LP-ML\")\n",
    "phenoData = new(\"AnnotatedDataFrame\", data = data.frame(celltype = group))\n",
    "rownames(phenoData) = colnames(x$counts)"
   ]
  },
  {
   "cell_type": "code",
   "execution_count": null,
   "id": "69abef5b-0f94-4eaa-9ee0-312980c4b7ed",
   "metadata": {
    "tags": []
   },
   "outputs": [],
   "source": [
    "counts <- Preprocess_counts(counts = x$counts, groups = group, mouse = TRUE)\n",
    "DErslt = RNAseqDegs_limma(counts = counts, phenodata = phenoData, \n",
    "                          complist = compList, qval = 0.05)"
   ]
  },
  {
   "cell_type": "code",
   "execution_count": null,
   "id": "c0aabcc3-ba8c-4273-a506-97a4f45600c6",
   "metadata": {
    "tags": []
   },
   "outputs": [],
   "source": [
    "DErslt$Overall"
   ]
  },
  {
   "cell_type": "code",
   "execution_count": null,
   "id": "ec7b0ee9-0c41-4516-8b93-9c0b7566c970",
   "metadata": {
    "tags": []
   },
   "outputs": [],
   "source": [
    "neweset = Biobase::ExpressionSet(assayData = as.matrix(DErslt$Overall$e), phenoData = phenoData)"
   ]
  },
  {
   "cell_type": "code",
   "execution_count": null,
   "id": "5c495474-6e9f-4fff-9a1b-616b8cab4cdd",
   "metadata": {
    "tags": []
   },
   "outputs": [],
   "source": [
    "DErslt$Overall$e"
   ]
  },
  {
   "cell_type": "code",
   "execution_count": null,
   "id": "c50f3dce-21b6-478c-8223-7f1f9603fc94",
   "metadata": {
    "tags": []
   },
   "outputs": [],
   "source": [
    "DErslt2 = RNAseqDegs_DESeq(counts = counts, phenodata = phenoData, \n",
    "                          complist = compList, qval = 0.05)\n",
    "neweset2 = Biobase::ExpressionSet(assayData = as.matrix(DErslt2$Overall$e), phenoData = phenoData)\n"
   ]
  },
  {
   "cell_type": "code",
   "execution_count": null,
   "id": "bd98a95f-a417-4cf8-97ba-7745d3742676",
   "metadata": {
    "tags": []
   },
   "outputs": [],
   "source": [
    "data(\"mDB\")\n",
    "calc <- TRUE\n",
    "\n",
    "if (calc) {\n",
    "  gsearslts <- TF_Selection(GSDB = mDB, DErslt = DErslt, minSize = 5, nperm = 10000,\n",
    "                            qval = 0.05, compList = compList,\n",
    "                            nameFile = \"gsearslts_tutorial\")\n",
    "} else {\n",
    "  gsearslts <- readRDS(file = \"gsearslts_tutorial.RDS\")\n",
    "}\n",
    "\n",
    "tfs <- gsearslts$tfs\n",
    "tfs"
   ]
  },
  {
   "cell_type": "code",
   "execution_count": null,
   "id": "7fc9e7c3-8679-4693-867f-440305d4cec0",
   "metadata": {
    "tags": []
   },
   "outputs": [],
   "source": [
    "Reselect_TFs(GSEArslt = gsearslts$GSEArslt, qval = 0.01)"
   ]
  },
  {
   "cell_type": "code",
   "execution_count": null,
   "id": "39be362b-d58e-4455-8ca5-a2bd68f86cfd",
   "metadata": {
    "tags": []
   },
   "outputs": [],
   "source": [
    "act.me <- TF_Activity(tfs, mDB, neweset, DErslt$Overall)\n",
    "acts_mat = act.me$all_activities\n",
    "Activity_heatmap(acts_mat, neweset)"
   ]
  },
  {
   "cell_type": "code",
   "execution_count": null,
   "id": "ab96dc56-6b6b-4099-b933-2c226d33daea",
   "metadata": {
    "tags": []
   },
   "outputs": [],
   "source": [
    "tf_links = TF_Filter(acts_mat, mDB, miTh = .05, nbins = 8, corMethod = \"spearman\", DPI = T)"
   ]
  },
  {
   "cell_type": "code",
   "execution_count": null,
   "id": "3c548d34-536d-4110-84d3-610e253593b7",
   "metadata": {
    "tags": []
   },
   "outputs": [],
   "source": [
    "plot_network(tf_links)\n"
   ]
  },
  {
   "cell_type": "code",
   "execution_count": null,
   "id": "93fc54c6-ab74-46b9-a79a-6e7949391aa7",
   "metadata": {
    "tags": []
   },
   "outputs": [],
   "source": [
    "racipe_results <- sRACIPE::sracipeSimulate(circuit = tf_links, numModels = 200, plots = TRUE)"
   ]
  },
  {
   "cell_type": "code",
   "execution_count": null,
   "id": "a1af96eb-ecab-41a3-a0d7-d63a038b4730",
   "metadata": {},
   "outputs": [],
   "source": []
  }
 ],
 "metadata": {
  "environment": {
   "kernel": "ir",
   "name": "r-cpu.4-2.m111",
   "type": "gcloud",
   "uri": "gcr.io/deeplearning-platform-release/r-cpu.4-2:m111"
  },
  "kernelspec": {
   "display_name": "R",
   "language": "R",
   "name": "ir"
  },
  "language_info": {
   "codemirror_mode": "r",
   "file_extension": ".r",
   "mimetype": "text/x-r-source",
   "name": "R",
   "pygments_lexer": "r",
   "version": "4.4.1"
  }
 },
 "nbformat": 4,
 "nbformat_minor": 5
}
